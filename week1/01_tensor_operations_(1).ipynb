{
  "nbformat": 4,
  "nbformat_minor": 0,
  "metadata": {
    "kernelspec": {
      "name": "python3",
      "display_name": "Python 3",
      "language": "python"
    },
    "language_info": {
      "name": "python",
      "version": "3.7.6",
      "mimetype": "text/x-python",
      "codemirror_mode": {
        "name": "ipython",
        "version": 3
      },
      "pygments_lexer": "ipython3",
      "nbconvert_exporter": "python",
      "file_extension": ".py"
    },
    "colab": {
      "name": "01-tensor-operations (1).ipynb",
      "provenance": []
    }
  },
  "cells": [
    {
      "cell_type": "markdown",
      "metadata": {
        "id": "k3ZGkLPYHlqe",
        "colab_type": "text"
      },
      "source": [
        "# Pytorch zero to gan : First Assignment\n",
        "\n",
        "### PyTorch is an open source machine learning library based on the Torch library, used for applications such as computer vision and natural language processing, primarily developed by Facebook's AI Research lab.\n",
        "\n",
        "# The choosen functions are as follows:- \n",
        "- torch.zeros()\n",
        "- torch.arange()\n",
        "- torch.linspace()\n",
        "- torch.eye()\n",
        "- torch.cat()"
      ]
    },
    {
      "cell_type": "code",
      "metadata": {
        "trusted": false,
        "id": "r-DSfZX_Hlqh",
        "colab_type": "code",
        "colab": {}
      },
      "source": [
        "# Import torch and other required modules\n",
        "import torch"
      ],
      "execution_count": 0,
      "outputs": []
    },
    {
      "cell_type": "markdown",
      "metadata": {
        "id": "V4f7QmXmHlqu",
        "colab_type": "text"
      },
      "source": [
        "## Function 1 - torch.zeros()\n",
        "Returns a tensor filled with the scalar value 0, with the shape defined by the variable argument size."
      ]
    },
    {
      "cell_type": "code",
      "metadata": {
        "trusted": false,
        "id": "nXpjYa1BHlq0",
        "colab_type": "code",
        "colab": {
          "base_uri": "https://localhost:8080/",
          "height": 201
        },
        "outputId": "4ee0df42-f397-4d4a-c4de-004e41a4d9e6"
      },
      "source": [
        "# Example 1 \n",
        "torch.zeros(10,3)"
      ],
      "execution_count": 3,
      "outputs": [
        {
          "output_type": "execute_result",
          "data": {
            "text/plain": [
              "tensor([[0., 0., 0.],\n",
              "        [0., 0., 0.],\n",
              "        [0., 0., 0.],\n",
              "        [0., 0., 0.],\n",
              "        [0., 0., 0.],\n",
              "        [0., 0., 0.],\n",
              "        [0., 0., 0.],\n",
              "        [0., 0., 0.],\n",
              "        [0., 0., 0.],\n",
              "        [0., 0., 0.]])"
            ]
          },
          "metadata": {
            "tags": []
          },
          "execution_count": 3
        }
      ]
    },
    {
      "cell_type": "markdown",
      "metadata": {
        "id": "txpXuUymHlq_",
        "colab_type": "text"
      },
      "source": [
        "Create a matrix of 10 rows and 3 columns , filled with zeros "
      ]
    },
    {
      "cell_type": "code",
      "metadata": {
        "trusted": false,
        "id": "LWG4pxV5HlrB",
        "colab_type": "code",
        "colab": {
          "base_uri": "https://localhost:8080/",
          "height": 35
        },
        "outputId": "571dfcd6-1f3f-4c2c-b5d3-25a1aceb7efe"
      },
      "source": [
        "# Example 2\n",
        "torch.zeros(10 , requires_grad=True)"
      ],
      "execution_count": 8,
      "outputs": [
        {
          "output_type": "execute_result",
          "data": {
            "text/plain": [
              "tensor([0., 0., 0., 0., 0., 0., 0., 0., 0., 0.], requires_grad=True)"
            ]
          },
          "metadata": {
            "tags": []
          },
          "execution_count": 8
        }
      ]
    },
    {
      "cell_type": "markdown",
      "metadata": {
        "id": "MJ0bti15HlrJ",
        "colab_type": "text"
      },
      "source": [
        "Ten rows of zeros with requires_grad set to True"
      ]
    },
    {
      "cell_type": "code",
      "metadata": {
        "trusted": false,
        "id": "Js167kSPHlrL",
        "colab_type": "code",
        "colab": {
          "base_uri": "https://localhost:8080/",
          "height": 135
        },
        "outputId": "80efe23f-284a-47ef-ca48-94e0be1bc255"
      },
      "source": [
        "# Example 3 - breaking\n",
        "torch.zeros(02)"
      ],
      "execution_count": 13,
      "outputs": [
        {
          "output_type": "error",
          "ename": "SyntaxError",
          "evalue": "ignored",
          "traceback": [
            "\u001b[0;36m  File \u001b[0;32m\"<ipython-input-13-33acb4bbb650>\"\u001b[0;36m, line \u001b[0;32m2\u001b[0m\n\u001b[0;31m    torch.zeros(02)\u001b[0m\n\u001b[0m                 ^\u001b[0m\n\u001b[0;31mSyntaxError\u001b[0m\u001b[0;31m:\u001b[0m invalid token\n"
          ]
        }
      ]
    },
    {
      "cell_type": "markdown",
      "metadata": {
        "id": "IXuQixr4HlrU",
        "colab_type": "text"
      },
      "source": [
        "We should not use 02 when passing the int to the zeros, 02 is not as same as 2. "
      ]
    },
    {
      "cell_type": "markdown",
      "metadata": {
        "id": "75jKDpz8HlrW",
        "colab_type": "text"
      },
      "source": [
        "- We should use this function when we need a matrix with zeros , or we want to do some linear work from scratch"
      ]
    },
    {
      "cell_type": "markdown",
      "metadata": {
        "id": "dJlIll5uHlrY",
        "colab_type": "text"
      },
      "source": [
        "## Function 2 - torch.arange()\n",
        "\n",
        "Returns a 1-D tensor of size end-start/step with values from the interval [start, end) taken with common difference step beginning from start."
      ]
    },
    {
      "cell_type": "code",
      "metadata": {
        "trusted": false,
        "id": "TTIwUjzuHlrZ",
        "colab_type": "code",
        "colab": {
          "base_uri": "https://localhost:8080/",
          "height": 35
        },
        "outputId": "3fa6e4b7-5ee5-45d1-d1c0-646b02afa775"
      },
      "source": [
        "# Example 1\n",
        "torch.arange(start=0,end=10,step=3)"
      ],
      "execution_count": 15,
      "outputs": [
        {
          "output_type": "execute_result",
          "data": {
            "text/plain": [
              "tensor([0, 3, 6, 9])"
            ]
          },
          "metadata": {
            "tags": []
          },
          "execution_count": 15
        }
      ]
    },
    {
      "cell_type": "markdown",
      "metadata": {
        "id": "Hhf9pxnMHlri",
        "colab_type": "text"
      },
      "source": [
        "We create a tensor using arange function where we give start to be 0 and end to be 10 wit step 3 . So the first value will be zero and later i+3,"
      ]
    },
    {
      "cell_type": "code",
      "metadata": {
        "trusted": false,
        "id": "gUlebyS4Hlrj",
        "colab_type": "code",
        "colab": {
          "base_uri": "https://localhost:8080/",
          "height": 35
        },
        "outputId": "985cd9ea-0576-45a4-eb83-6509b8542af9"
      },
      "source": [
        "# Example 2\n",
        "torch.arange(1,1.5,0.2)"
      ],
      "execution_count": 16,
      "outputs": [
        {
          "output_type": "execute_result",
          "data": {
            "text/plain": [
              "tensor([1.0000, 1.2000, 1.4000])"
            ]
          },
          "metadata": {
            "tags": []
          },
          "execution_count": 16
        }
      ]
    },
    {
      "cell_type": "markdown",
      "metadata": {
        "id": "PCap4XEDHlrp",
        "colab_type": "text"
      },
      "source": [
        "We can also give it a float value and in return we get a list of tensors ."
      ]
    },
    {
      "cell_type": "code",
      "metadata": {
        "trusted": false,
        "id": "92rtdvPYHlrq",
        "colab_type": "code",
        "colab": {
          "base_uri": "https://localhost:8080/",
          "height": 191
        },
        "outputId": "501d3cf8-655f-459b-f3d0-756678b043f0"
      },
      "source": [
        "# Example 3 - breaking \n",
        "torch.arange([1,2,3])"
      ],
      "execution_count": 18,
      "outputs": [
        {
          "output_type": "error",
          "ename": "TypeError",
          "evalue": "ignored",
          "traceback": [
            "\u001b[0;31m---------------------------------------------------------------------------\u001b[0m",
            "\u001b[0;31mTypeError\u001b[0m                                 Traceback (most recent call last)",
            "\u001b[0;32m<ipython-input-18-97d2ca80bf59>\u001b[0m in \u001b[0;36m<module>\u001b[0;34m()\u001b[0m\n\u001b[1;32m      1\u001b[0m \u001b[0;31m# Example 3 - breaking\u001b[0m\u001b[0;34m\u001b[0m\u001b[0;34m\u001b[0m\u001b[0;34m\u001b[0m\u001b[0m\n\u001b[0;32m----> 2\u001b[0;31m \u001b[0mtorch\u001b[0m\u001b[0;34m.\u001b[0m\u001b[0marange\u001b[0m\u001b[0;34m(\u001b[0m\u001b[0;34m[\u001b[0m\u001b[0;36m1\u001b[0m\u001b[0;34m,\u001b[0m\u001b[0;36m2\u001b[0m\u001b[0;34m,\u001b[0m\u001b[0;36m3\u001b[0m\u001b[0;34m]\u001b[0m\u001b[0;34m)\u001b[0m\u001b[0;34m\u001b[0m\u001b[0;34m\u001b[0m\u001b[0m\n\u001b[0m",
            "\u001b[0;31mTypeError\u001b[0m: arange(): argument 'end' (position 1) must be Number, not list"
          ]
        }
      ]
    },
    {
      "cell_type": "markdown",
      "metadata": {
        "id": "33bl_AyjHlry",
        "colab_type": "text"
      },
      "source": [
        "We cannot pass list when creating a tensor using arange , it only accepts start , end and step"
      ]
    },
    {
      "cell_type": "markdown",
      "metadata": {
        "id": "a6z7yM84Hlr0",
        "colab_type": "text"
      },
      "source": [
        "- Use this function when you need a specific tensors values"
      ]
    },
    {
      "cell_type": "markdown",
      "metadata": {
        "id": "qyFUqMuNHlr1",
        "colab_type": "text"
      },
      "source": [
        "## Function 3 - torch.linspace()\n",
        "\n",
        "Returns a one-dimensional tensor of steps equally spaced points between start and end.\n",
        "\n",
        "The output tensor is 1-D of size steps."
      ]
    },
    {
      "cell_type": "code",
      "metadata": {
        "trusted": false,
        "id": "jvhqbJXVHlr3",
        "colab_type": "code",
        "colab": {
          "base_uri": "https://localhost:8080/",
          "height": 256
        },
        "outputId": "168fd0b1-1cbf-445d-b6bb-3d5d13ff9de8"
      },
      "source": [
        "# Example 1 - working\n",
        "\n",
        "torch.linspace(10,1)"
      ],
      "execution_count": 19,
      "outputs": [
        {
          "output_type": "execute_result",
          "data": {
            "text/plain": [
              "tensor([10.0000,  9.9091,  9.8182,  9.7273,  9.6364,  9.5455,  9.4545,  9.3636,\n",
              "         9.2727,  9.1818,  9.0909,  9.0000,  8.9091,  8.8182,  8.7273,  8.6364,\n",
              "         8.5455,  8.4545,  8.3636,  8.2727,  8.1818,  8.0909,  8.0000,  7.9091,\n",
              "         7.8182,  7.7273,  7.6364,  7.5455,  7.4545,  7.3636,  7.2727,  7.1818,\n",
              "         7.0909,  7.0000,  6.9091,  6.8182,  6.7273,  6.6364,  6.5455,  6.4545,\n",
              "         6.3636,  6.2727,  6.1818,  6.0909,  6.0000,  5.9091,  5.8182,  5.7273,\n",
              "         5.6364,  5.5455,  5.4545,  5.3636,  5.2727,  5.1818,  5.0909,  5.0000,\n",
              "         4.9091,  4.8182,  4.7273,  4.6364,  4.5455,  4.4545,  4.3636,  4.2727,\n",
              "         4.1818,  4.0909,  4.0000,  3.9091,  3.8182,  3.7273,  3.6364,  3.5455,\n",
              "         3.4545,  3.3636,  3.2727,  3.1818,  3.0909,  3.0000,  2.9091,  2.8182,\n",
              "         2.7273,  2.6364,  2.5455,  2.4545,  2.3636,  2.2727,  2.1818,  2.0909,\n",
              "         2.0000,  1.9091,  1.8182,  1.7273,  1.6364,  1.5455,  1.4545,  1.3636,\n",
              "         1.2727,  1.1818,  1.0909,  1.0000])"
            ]
          },
          "metadata": {
            "tags": []
          },
          "execution_count": 19
        }
      ]
    },
    {
      "cell_type": "markdown",
      "metadata": {
        "id": "BjYmeUKdHlr9",
        "colab_type": "text"
      },
      "source": [
        "Create a random date start with 10 and end in 1"
      ]
    },
    {
      "cell_type": "code",
      "metadata": {
        "trusted": false,
        "id": "QzX0wbaSHlr_",
        "colab_type": "code",
        "colab": {
          "base_uri": "https://localhost:8080/",
          "height": 35
        },
        "outputId": "d0df8b39-72d2-4e9f-e4a9-01aeb75cbf15"
      },
      "source": [
        "# Example 2 - working\n",
        "torch.linspace(1,10,5)"
      ],
      "execution_count": 20,
      "outputs": [
        {
          "output_type": "execute_result",
          "data": {
            "text/plain": [
              "tensor([ 1.0000,  3.2500,  5.5000,  7.7500, 10.0000])"
            ]
          },
          "metadata": {
            "tags": []
          },
          "execution_count": 20
        }
      ]
    },
    {
      "cell_type": "markdown",
      "metadata": {
        "id": "yCvm7zm4HlsJ",
        "colab_type": "text"
      },
      "source": [
        "From 1 to 10 get a 5 equally distributed datas."
      ]
    },
    {
      "cell_type": "code",
      "metadata": {
        "trusted": false,
        "id": "4TBSxpb3HlsK",
        "colab_type": "code",
        "colab": {
          "base_uri": "https://localhost:8080/",
          "height": 191
        },
        "outputId": "3fab3e6b-a658-4249-84aa-b908e982591d"
      },
      "source": [
        "# Example 3 - breaking\n",
        "torch.linspace(10)"
      ],
      "execution_count": 24,
      "outputs": [
        {
          "output_type": "error",
          "ename": "TypeError",
          "evalue": "ignored",
          "traceback": [
            "\u001b[0;31m---------------------------------------------------------------------------\u001b[0m",
            "\u001b[0;31mTypeError\u001b[0m                                 Traceback (most recent call last)",
            "\u001b[0;32m<ipython-input-24-b7542febeb5d>\u001b[0m in \u001b[0;36m<module>\u001b[0;34m()\u001b[0m\n\u001b[1;32m      1\u001b[0m \u001b[0;31m# Example 3 - breaking\u001b[0m\u001b[0;34m\u001b[0m\u001b[0;34m\u001b[0m\u001b[0;34m\u001b[0m\u001b[0m\n\u001b[0;32m----> 2\u001b[0;31m \u001b[0mtorch\u001b[0m\u001b[0;34m.\u001b[0m\u001b[0mlinspace\u001b[0m\u001b[0;34m(\u001b[0m\u001b[0;36m10\u001b[0m\u001b[0;34m)\u001b[0m\u001b[0;34m\u001b[0m\u001b[0;34m\u001b[0m\u001b[0m\n\u001b[0m",
            "\u001b[0;31mTypeError\u001b[0m: linspace() missing 1 required positional arguments: \"end\""
          ]
        }
      ]
    },
    {
      "cell_type": "markdown",
      "metadata": {
        "id": "9ikh37yrHlsT",
        "colab_type": "text"
      },
      "source": [
        "We should pass ending argument to the linspace because the function needs to know when it should end"
      ]
    },
    {
      "cell_type": "markdown",
      "metadata": {
        "id": "oImgh2pEHlsT",
        "colab_type": "text"
      },
      "source": [
        "- We should use this function to get random data points with start and end as default params"
      ]
    },
    {
      "cell_type": "markdown",
      "metadata": {
        "id": "2bRNtBx_HlsV",
        "colab_type": "text"
      },
      "source": [
        "## Function 4 - torch.eye()\n",
        "\n",
        "Return identity matrix ( Identity matrix is something which we need when we are finding the inverse of the matrix)"
      ]
    },
    {
      "cell_type": "code",
      "metadata": {
        "trusted": false,
        "id": "YQ3NR5WFHlsW",
        "colab_type": "code",
        "colab": {
          "base_uri": "https://localhost:8080/",
          "height": 54
        },
        "outputId": "53eadade-3e69-4561-d029-ec7d440ce267"
      },
      "source": [
        "# Example 1 - working\n",
        "torch.eye(2)"
      ],
      "execution_count": 25,
      "outputs": [
        {
          "output_type": "execute_result",
          "data": {
            "text/plain": [
              "tensor([[1., 0.],\n",
              "        [0., 1.]])"
            ]
          },
          "metadata": {
            "tags": []
          },
          "execution_count": 25
        }
      ]
    },
    {
      "cell_type": "markdown",
      "metadata": {
        "id": "-iXsWnlIHlsb",
        "colab_type": "text"
      },
      "source": [
        "Return a 2D identity matrix"
      ]
    },
    {
      "cell_type": "code",
      "metadata": {
        "trusted": false,
        "id": "DTmfvNtdHlsd",
        "colab_type": "code",
        "colab": {
          "base_uri": "https://localhost:8080/",
          "height": 72
        },
        "outputId": "76bf87df-bc12-44f7-8d6c-04028ddea093"
      },
      "source": [
        "# Example 2 - working\n",
        "torch.eye(n=3,m=4)"
      ],
      "execution_count": 40,
      "outputs": [
        {
          "output_type": "execute_result",
          "data": {
            "text/plain": [
              "tensor([[1., 0., 0., 0.],\n",
              "        [0., 1., 0., 0.],\n",
              "        [0., 0., 1., 0.]])"
            ]
          },
          "metadata": {
            "tags": []
          },
          "execution_count": 40
        }
      ]
    },
    {
      "cell_type": "markdown",
      "metadata": {
        "id": "lRmTdEiuHlsk",
        "colab_type": "text"
      },
      "source": [
        "Create a 2d identity matrix with 3 rows and 4 columms"
      ]
    },
    {
      "cell_type": "code",
      "metadata": {
        "trusted": false,
        "id": "hEaEvFqoHlsk",
        "colab_type": "code",
        "colab": {
          "base_uri": "https://localhost:8080/",
          "height": 227
        },
        "outputId": "dcfbcd86-2cef-4f3c-a404-580c2ed12388"
      },
      "source": [
        "# Example 3 - breaking\n",
        "torch.eye(n=3,m=5 , dtype='float')"
      ],
      "execution_count": 38,
      "outputs": [
        {
          "output_type": "error",
          "ename": "TypeError",
          "evalue": "ignored",
          "traceback": [
            "\u001b[0;31m---------------------------------------------------------------------------\u001b[0m",
            "\u001b[0;31mTypeError\u001b[0m                                 Traceback (most recent call last)",
            "\u001b[0;32m<ipython-input-38-01dd39e3ee71>\u001b[0m in \u001b[0;36m<module>\u001b[0;34m()\u001b[0m\n\u001b[1;32m      1\u001b[0m \u001b[0;31m# Example 3 - breaking\u001b[0m\u001b[0;34m\u001b[0m\u001b[0;34m\u001b[0m\u001b[0;34m\u001b[0m\u001b[0m\n\u001b[0;32m----> 2\u001b[0;31m \u001b[0mtorch\u001b[0m\u001b[0;34m.\u001b[0m\u001b[0meye\u001b[0m\u001b[0;34m(\u001b[0m\u001b[0mn\u001b[0m\u001b[0;34m=\u001b[0m\u001b[0;36m3\u001b[0m\u001b[0;34m,\u001b[0m\u001b[0mm\u001b[0m\u001b[0;34m=\u001b[0m\u001b[0;36m5\u001b[0m \u001b[0;34m,\u001b[0m \u001b[0mdtype\u001b[0m\u001b[0;34m=\u001b[0m\u001b[0;34m'float'\u001b[0m\u001b[0;34m)\u001b[0m\u001b[0;34m\u001b[0m\u001b[0;34m\u001b[0m\u001b[0m\n\u001b[0m",
            "\u001b[0;31mTypeError\u001b[0m: eye() received an invalid combination of arguments - got (dtype=str, n=int, m=int, ), but expected one of:\n * (int n, *, Tensor out, torch.dtype dtype, torch.layout layout, torch.device device, bool pin_memory, bool requires_grad)\n * (int n, int m, *, Tensor out, torch.dtype dtype, torch.layout layout, torch.device device, bool pin_memory, bool requires_grad)\n"
          ]
        }
      ]
    },
    {
      "cell_type": "markdown",
      "metadata": {
        "id": "-KsAWII9Hlsp",
        "colab_type": "text"
      },
      "source": [
        "We should provide torch.float to get a float values rather using float as string"
      ]
    },
    {
      "cell_type": "markdown",
      "metadata": {
        "id": "bZaGCXuqHlsr",
        "colab_type": "text"
      },
      "source": [
        "- Use this function when we need to create an identity matrix to find an inverse of an matrix"
      ]
    },
    {
      "cell_type": "markdown",
      "metadata": {
        "id": "kABglUk3Hlsu",
        "colab_type": "text"
      },
      "source": [
        "## Function 5 - torch.cat()\n",
        "\n",
        "Concatenates the given sequence of seq tensors in the given dimension.\n",
        "0-row\n",
        "1-column"
      ]
    },
    {
      "cell_type": "code",
      "metadata": {
        "trusted": false,
        "id": "6oUOkcASHlsw",
        "colab_type": "code",
        "colab": {
          "base_uri": "https://localhost:8080/",
          "height": 35
        },
        "outputId": "1cb1639e-8d5c-4f8a-e4eb-840b77999c06"
      },
      "source": [
        "# Example 1 - working\n",
        "x = torch.arange(1,10,3)\n",
        "x\n",
        "torch.cat((x,x,x),0)\n"
      ],
      "execution_count": 58,
      "outputs": [
        {
          "output_type": "execute_result",
          "data": {
            "text/plain": [
              "tensor([1, 4, 7, 1, 4, 7, 1, 4, 7])"
            ]
          },
          "metadata": {
            "tags": []
          },
          "execution_count": 58
        }
      ]
    },
    {
      "cell_type": "markdown",
      "metadata": {
        "id": "YlC7wpfHHls1",
        "colab_type": "text"
      },
      "source": [
        "First we create a tensor using arange function and then concatenate 3 times in rows"
      ]
    },
    {
      "cell_type": "code",
      "metadata": {
        "trusted": false,
        "id": "TDy88RaBHls3",
        "colab_type": "code",
        "colab": {
          "base_uri": "https://localhost:8080/",
          "height": 146
        },
        "outputId": "eb6042f2-e890-46cf-b554-d7aadd31714c"
      },
      "source": [
        "# Example 2 - working\n",
        "new_data = torch.arange(1,24,2).reshape(-1,2)\n",
        "new_data\n",
        "torch.cat((new_data , torch.tensor([[1,2]])),0)"
      ],
      "execution_count": 77,
      "outputs": [
        {
          "output_type": "execute_result",
          "data": {
            "text/plain": [
              "tensor([[ 1,  3],\n",
              "        [ 5,  7],\n",
              "        [ 9, 11],\n",
              "        [13, 15],\n",
              "        [17, 19],\n",
              "        [21, 23],\n",
              "        [ 1,  2]])"
            ]
          },
          "metadata": {
            "tags": []
          },
          "execution_count": 77
        }
      ]
    },
    {
      "cell_type": "markdown",
      "metadata": {
        "id": "ZXSN0FwhHls7",
        "colab_type": "text"
      },
      "source": [
        "First we create a two dimensional arary and then concatenate them in rows"
      ]
    },
    {
      "cell_type": "code",
      "metadata": {
        "trusted": false,
        "id": "ACEOzOpvHls8",
        "colab_type": "code",
        "colab": {
          "base_uri": "https://localhost:8080/",
          "height": 209
        },
        "outputId": "94c7aafe-5b48-43da-c956-eda16c3a5009"
      },
      "source": [
        "# Example 3 - breaking \n",
        "new_data\n",
        "x\n",
        "torch.cat((new_data,x))"
      ],
      "execution_count": 80,
      "outputs": [
        {
          "output_type": "error",
          "ename": "RuntimeError",
          "evalue": "ignored",
          "traceback": [
            "\u001b[0;31m---------------------------------------------------------------------------\u001b[0m",
            "\u001b[0;31mRuntimeError\u001b[0m                              Traceback (most recent call last)",
            "\u001b[0;32m<ipython-input-80-d4c900ef5b98>\u001b[0m in \u001b[0;36m<module>\u001b[0;34m()\u001b[0m\n\u001b[1;32m      2\u001b[0m \u001b[0mnew_data\u001b[0m\u001b[0;34m\u001b[0m\u001b[0;34m\u001b[0m\u001b[0m\n\u001b[1;32m      3\u001b[0m \u001b[0mx\u001b[0m\u001b[0;34m\u001b[0m\u001b[0;34m\u001b[0m\u001b[0m\n\u001b[0;32m----> 4\u001b[0;31m \u001b[0mtorch\u001b[0m\u001b[0;34m.\u001b[0m\u001b[0mcat\u001b[0m\u001b[0;34m(\u001b[0m\u001b[0;34m(\u001b[0m\u001b[0mnew_data\u001b[0m\u001b[0;34m,\u001b[0m\u001b[0mx\u001b[0m\u001b[0;34m)\u001b[0m\u001b[0;34m)\u001b[0m\u001b[0;34m\u001b[0m\u001b[0;34m\u001b[0m\u001b[0m\n\u001b[0m",
            "\u001b[0;31mRuntimeError\u001b[0m: Tensors must have same number of dimensions: got 2 and 1"
          ]
        }
      ]
    },
    {
      "cell_type": "markdown",
      "metadata": {
        "id": "Ig0gwl0eHltC",
        "colab_type": "text"
      },
      "source": [
        "When concatating tensor should have same dimesion  , here when we tried to concat a tensor with (1,) dim with tensor with (2,) dim it thrown an error"
      ]
    },
    {
      "cell_type": "markdown",
      "metadata": {
        "id": "twFsSA0xHltD",
        "colab_type": "text"
      },
      "source": [
        " - Use this function when u want to make two tensor into one "
      ]
    },
    {
      "cell_type": "markdown",
      "metadata": {
        "id": "gjAsVwE4HltE",
        "colab_type": "text"
      },
      "source": [
        "## Conclusion\n",
        "\n",
        "So in this notebook we have covered five basic functions of tensors.\n",
        "We have seen how we can create a tensor with zeros.\n",
        "We have also created a identity matrix and covered the basics of tensor concatination. There are hundreds of useful tensor functions which we can use , for more information please go to offical python documentation."
      ]
    },
    {
      "cell_type": "markdown",
      "metadata": {
        "id": "jSU01sONHltF",
        "colab_type": "text"
      },
      "source": [
        "## Reference Links\n",
        "Provide links to your references and other interesting articles about tensors\n",
        "* Official documentation for `torch.Tensor`: https://pytorch.org/docs/stable/tensors.html"
      ]
    },
    {
      "cell_type": "code",
      "metadata": {
        "trusted": false,
        "id": "QFb934sgHltG",
        "colab_type": "code",
        "colab": {}
      },
      "source": [
        "!pip install jovian --upgrade --quiet"
      ],
      "execution_count": 0,
      "outputs": []
    },
    {
      "cell_type": "code",
      "metadata": {
        "trusted": false,
        "id": "fsFtwf6hHltL",
        "colab_type": "code",
        "colab": {}
      },
      "source": [
        "import jovian"
      ],
      "execution_count": 0,
      "outputs": []
    },
    {
      "cell_type": "code",
      "metadata": {
        "trusted": false,
        "id": "TndOwmQ8HltQ",
        "colab_type": "code",
        "colab": {},
        "outputId": "002adce6-1552-4b8e-973b-befa42aa8dd3"
      },
      "source": [
        "jovian.commit()"
      ],
      "execution_count": 0,
      "outputs": [
        {
          "output_type": "display_data",
          "data": {
            "application/javascript": [
              "window.require && require([\"base/js/namespace\"],function(Jupyter){Jupyter.notebook.save_checkpoint()})"
            ],
            "text/plain": [
              "<IPython.core.display.Javascript object>"
            ]
          },
          "metadata": {
            "tags": []
          }
        },
        {
          "output_type": "stream",
          "text": [
            "[jovian] Attempting to save notebook..\u001b[0m\n"
          ],
          "name": "stdout"
        }
      ]
    },
    {
      "cell_type": "code",
      "metadata": {
        "trusted": false,
        "id": "5DlmtpG6HltW",
        "colab_type": "code",
        "colab": {}
      },
      "source": [
        ""
      ],
      "execution_count": 0,
      "outputs": []
    }
  ]
}